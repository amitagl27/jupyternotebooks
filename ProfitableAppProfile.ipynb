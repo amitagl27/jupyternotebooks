{
 "metadata": {
  "language_info": {
   "codemirror_mode": {
    "name": "ipython",
    "version": 3
   },
   "file_extension": ".py",
   "mimetype": "text/x-python",
   "name": "python",
   "nbconvert_exporter": "python",
   "pygments_lexer": "ipython3",
   "version": 3
  },
  "orig_nbformat": 2,
  "kernelspec": {
   "name": "python_defaultSpec_1596903803431",
   "display_name": "Python 3.8.5 32-bit"
  }
 },
 "nbformat": 4,
 "nbformat_minor": 2,
 "cells": [
  {
   "cell_type": "markdown",
   "metadata": {},
   "source": [
    "## Profitable App Profile for Apple iStore\n",
    "\n",
    "In this project, I will explore the applications available on Apple IStore and their usage pattern. A dataset for 10k apps were downloaded from Apple iStore for the analysis\n",
    "\n",
    "Goal of this project is to find which genre of applications are more profitable on Apple App Store. "
   ]
  },
  {
   "cell_type": "markdown",
   "metadata": {},
   "source": [
    "### Below function returns the data of csv as a list of list"
   ]
  },
  {
   "cell_type": "code",
   "execution_count": 132,
   "metadata": {},
   "outputs": [],
   "source": [
    "rootFolder = 'C:\\\\Users\\\\amit.kuma\\\\Desktop\\\\Cloud Drives\\\\OneDrive\\\\Code Base\\\\Github\\\\mydatasets'\n",
    "from csv import reader\n",
    "def getDataSet(fileName):\n",
    "    opened_file = open(rootFolder+'\\\\'+fileName,encoding='utf8')\n",
    "    reader_data = reader(opened_file)\n",
    "    return list(reader_data)\n"
   ]
  },
  {
   "cell_type": "markdown",
   "metadata": {},
   "source": [
    "### Below function provides insights to the dataset. You can slide the current datset as well as get information about number of rows and columns"
   ]
  },
  {
   "cell_type": "code",
   "execution_count": 133,
   "metadata": {},
   "outputs": [],
   "source": [
    "def explore_data(dataset,start,end,rows_and_columns=False):\n",
    "    dataset_slice = dataset[start:end]\n",
    "    for row in dataset_slice:\n",
    "        print('\\n')\n",
    "        print(row)\n",
    "        print('\\n')\n",
    "    if rows_and_columns:\n",
    "        print('Number of rows: ',  len(dataset))\n",
    "        print('Number of columns: ', len(dataset[0]))\n"
   ]
  },
  {
   "cell_type": "markdown",
   "metadata": {},
   "source": [
    "### For the current project, we've downloaded two csv files which contains \n",
    "\n",
    "- Google app store data [link] (https://dq-content.s3.amazonaws.com/350/googleplaystore.csv)\n",
    "- Apple app store data [link] (https://dq-content.s3.amazonaws.com/350/AppleStore.csv)"
   ]
  },
  {
   "cell_type": "code",
   "execution_count": 134,
   "metadata": {
    "tags": []
   },
   "outputs": [
    {
     "output_type": "stream",
     "name": "stdout",
     "text": "Number of rows:  10842\nNumber of columns:  13\nNumber of rows:  7198\nNumber of columns:  16\n"
    }
   ],
   "source": [
    "googleStoreData = getDataSet('googleplaystore.csv')\n",
    "appleStoreData = getDataSet('AppleStore.csv')\n",
    "explore_data(googleStoreData,0,0,True)\n",
    "explore_data(appleStoreData,0,0,True)\n"
   ]
  },
  {
   "cell_type": "markdown",
   "metadata": {},
   "source": [
    "### finding bad entries (rows with less or more number of columns as that of header row) in the dataset and deleting them."
   ]
  },
  {
   "cell_type": "code",
   "execution_count": 135,
   "metadata": {
    "tags": []
   },
   "outputs": [
    {
     "output_type": "stream",
     "name": "stdout",
     "text": "Row deleted. Index No :  10473\n"
    }
   ],
   "source": [
    "def deleteEntryforColumn(dataset):\n",
    "    columnLen = len(dataset[0])\n",
    "    count = 0\n",
    "    for row in dataset[1:]:\n",
    "        count += 1\n",
    "        colLen = len(row)\n",
    "        if colLen != columnLen:\n",
    "            del dataset[count]\n",
    "            print('Row deleted. Index No : ', count)    \n",
    "deleteEntryforColumn(googleStoreData)\n",
    "deleteEntryforColumn(appleStoreData)\n"
   ]
  },
  {
   "cell_type": "markdown",
   "metadata": {},
   "source": [
    "### finding duplicate entries in the datasets"
   ]
  },
  {
   "cell_type": "code",
   "execution_count": 136,
   "metadata": {
    "tags": []
   },
   "outputs": [
    {
     "output_type": "stream",
     "name": "stdout",
     "text": "['Mannequin Challenge', 'VR Roller Coaster']\n"
    }
   ],
   "source": [
    "def findDuplicateEntries(dataset,nameIndex):\n",
    "    count = 0\n",
    "    duplicateapp = []\n",
    "    uniqueapp = []\n",
    "    for row in dataset[1:]:\n",
    "        count += 1\n",
    "        appName = row[nameIndex]\n",
    "        if appName in uniqueapp:\n",
    "            duplicateapp.append(appName)\n",
    "        else:\n",
    "            uniqueapp.append(appName)\n",
    "    return duplicateapp,uniqueapp\n",
    "\n",
    "print(findDuplicateEntries(appleStoreData,1)[0])\n",
    "\n",
    "    \n"
   ]
  },
  {
   "cell_type": "markdown",
   "metadata": {},
   "source": [
    "we can see that there are `1181` duplicate apps in google store data and `2` duplicate entries in apple store data.\n",
    "\n",
    "Inspecting these duplicate apps carefully, we can see that they varise only based on the number of reviews e.g. for applestore `Mannequin Challenge` app is a duplicate and duplicate sets are below\n",
    "\n",
    "\n",
    "> `['1173990889', 'Mannequin Challenge', `*'109705216'*`, 'USD', '0.0', '668', '87', '3.0', '3.0', '1.4', '9+', 'Games', '37', '4', '1', '1']`\n",
    "\n",
    "> `['1178454060', 'Mannequin Challenge', `*'59572224'*`, 'USD', '0.0', '105', '58', '4.0', '4.5', '1.0.1', '4+', 'Games', '38', '5', '1', '1']`\n",
    "\n",
    "so we can pick that row which as highest number of reviews as that implies it is the latest data\n",
    "\n",
    "### Removing duplicate entries based on our criteria from the datasets and get clean dataset"
   ]
  },
  {
   "cell_type": "code",
   "execution_count": 137,
   "metadata": {
    "tags": []
   },
   "outputs": [],
   "source": [
    "def removeDuplicates(dataset,nameIndex,reviewIndex):\n",
    "    appdict = {}\n",
    "    count = 0\n",
    "    for row in dataset[1:]:\n",
    "        appName = row[nameIndex]\n",
    "        n_reviews = float(row[reviewIndex])\n",
    "        if appName not in appdict:\n",
    "            appdict[appName] = n_reviews\n",
    "        if appName in appdict and appdict[appName] < n_reviews:\n",
    "            appdict[appName] = n_reviews\n",
    "    app_clean = []\n",
    "    already_added = []\n",
    "    count = 0\n",
    "    for row in dataset[1:]:\n",
    "        appName = row[nameIndex]\n",
    "        n_reviews = float(row[reviewIndex])\n",
    "        if appName not in already_added and n_reviews == appdict[appName]:\n",
    "            app_clean.append(row) \n",
    "            already_added.append(appName)           \n",
    "    return app_clean\n",
    "\n",
    "googleCleanData = removeDuplicates(googleStoreData,0,3)\n",
    "appleCleanData = removeDuplicates(appleStoreData,1,4)\n"
   ]
  },
  {
   "cell_type": "markdown",
   "metadata": {},
   "source": [
    "### preparing and filtering dataset to remove non-english apps"
   ]
  },
  {
   "cell_type": "code",
   "execution_count": 140,
   "metadata": {
    "tags": []
   },
   "outputs": [],
   "source": [
    "def isEnglishString(inputStr):\n",
    "    count = 1\n",
    "    for character in inputStr:\n",
    "        if count > 3:\n",
    "            return False        \n",
    "        if ord(character) > 127:\n",
    "            count += 1            \n",
    "    return True\n",
    "\n",
    "def getOnlyEngApp(dataset,nameIndex):\n",
    "    engappdata = []\n",
    "    for row in dataset:\n",
    "        appName = row[nameIndex]\n",
    "        if isEnglishString(appName):\n",
    "           engappdata.append(row)\n",
    "    return engappdata\n",
    "\n",
    "googleEngData = getOnlyEngApp(googleCleanData,0)\n",
    "appleEngData = getOnlyEngApp(appleCleanData,1)\n"
   ]
  },
  {
   "cell_type": "markdown",
   "metadata": {},
   "source": [
    "### since current scope of analysis is limited to free apps only, we've to further filter our dataset to remove premium apps"
   ]
  },
  {
   "cell_type": "code",
   "execution_count": 141,
   "metadata": {
    "tags": []
   },
   "outputs": [],
   "source": [
    "def removePaidApps(dataset,amountIndex,typeFlag=False):\n",
    "    freeAppData = []\n",
    "    for row in dataset:\n",
    "        if typeFlag and row[amountIndex] == 'Free':\n",
    "           freeAppData.append(row)\n",
    "        elif typeFlag == False and float(row[amountIndex]) == 0.0:\n",
    "           freeAppData.append(row)\n",
    "    return freeAppData\n",
    "\n",
    "googleFreeApp = removePaidApps(googleEngData,6,True)\n",
    "appleFreeApp = removePaidApps(appleEngData,4)\n",
    "\n"
   ]
  },
  {
   "cell_type": "markdown",
   "metadata": {},
   "source": [
    "- our aim is to determine the kinds of apps that are likely to attract more users because our revenue is highly influenced by the number of people using our apps.\n",
    "\n",
    "- To minimize risks and overhead, our validation strategy for an app idea is comprised of three steps:\n",
    "\n",
    "- Build a minimal Android version of the app, and add it to Google Play.\n",
    "    If the app has a good response from users, we develop it further.\n",
    "    If the app is profitable after six months, we build an iOS version of the app and add it to the App Store.\n",
    "    \n",
    "- Because our end goal is to add the app on both Google Play and the App Store, we need to find app profiles that are successful on both markets. For instance, a profile that works well for both markets might be a productivity app that makes use of gamification."
   ]
  },
  {
   "cell_type": "code",
   "execution_count": 172,
   "metadata": {
    "tags": []
   },
   "outputs": [
    {
     "output_type": "stream",
     "name": "stdout",
     "text": "\n\n\n\nCOMMUNICATION : 38590581\nVIDEO_PLAYERS : 24727872\nSOCIAL : 23253652\nPHOTOGRAPHY : 17840110\nPRODUCTIVITY : 16787331\nGAME : 15606004\nTRAVEL_AND_LOCAL : 13984077\nENTERTAINMENT : 11640705\nTOOLS : 10830251\nNEWS_AND_MAGAZINES : 9549178\nBOOKS_AND_REFERENCE : 8814199\nSHOPPING : 7036877\nPERSONALIZATION : 5201482\nWEATHER : 5145550\nHEALTH_AND_FITNESS : 4188821\nMAPS_AND_NAVIGATION : 4049274\nFAMILY : 3697848\nSPORTS : 3650602\nART_AND_DESIGN : 1986335\nFOOD_AND_DRINK : 1924897\nEDUCATION : 1833495\nBUSINESS : 1712290\nLIFESTYLE : 1446158\nFINANCE : 1387692\nHOUSE_AND_HOME : 1360598\nDATING : 854028\nCOMICS : 832613\nAUTO_AND_VEHICLES : 647317\nLIBRARIES_AND_DEMO : 638503\nPARENTING : 542603\nBEAUTY : 513151\nEVENTS : 253542\nMEDICAL : 120550\n"
    }
   ],
   "source": [
    "def frequencyTable(dataset,index):\n",
    "    curDict = {}\n",
    "    for row in dataset:\n",
    "        curkey = row[index]\n",
    "        if curkey in curDict:\n",
    "            curDict[curkey] +=1\n",
    "        else:\n",
    "            curDict[curkey] = 1\n",
    "    return curDict\n",
    "\n",
    "\n",
    "def display_table(freqTable, index=0):\n",
    "    table = freqTable\n",
    "    table_display = []\n",
    "    for key in table:\n",
    "        key_val_as_tuple = (table[key], key)\n",
    "        table_display.append(key_val_as_tuple)\n",
    "\n",
    "    table_sorted = sorted(table_display, reverse = True)\n",
    "    for entry in table_sorted:\n",
    "        print(entry[1], ':', entry[0])\n",
    "\n",
    "#print(googleStoreData[0]) #1, 9\n",
    "#print(appleStoreData[0]) #11,5\n",
    "#print(display_table(googleFreeApp,1))\n",
    "print('\\n')\n",
    "#print(display_table(googleFreeApp,9))\n",
    "print('\\n')\n",
    "#print(display_table(appleFreeApp,11))\n",
    "\n",
    "prime_genre_dict = frequencyTable(appleFreeApp,11)\n",
    "prime_genre_rating_dict = {}\n",
    "for genre in prime_genre_dict:\n",
    "    total_rating = 0\n",
    "    len_genre = 0\n",
    "    for row in appleFreeApp:\n",
    "        if genre == row[11]:\n",
    "            total_rating += int(row[5])\n",
    "            len_genre += 1\n",
    "\n",
    "    prime_genre_rating_dict[genre] = int(total_rating/len_genre)\n",
    "\n",
    "#display_table(prime_genre_rating_dict)\n",
    "\n",
    "category_dict = frequencyTable(googleFreeApp,1)\n",
    "category_dict_install = {}\n",
    "for category in category_dict:\n",
    "    total_install = 0\n",
    "    len_category = 0\n",
    "    for row in googleFreeApp:\n",
    "        if category == row[1]:\n",
    "           total_install += float(row[5].replace('+','').replace(',',''))\n",
    "           len_category += 1\n",
    "    category_dict_install[category] = int(total_install/len_category)\n",
    "display_table(category_dict_install)\n",
    "\n",
    "\n",
    "\n"
   ]
  }
 ]
}