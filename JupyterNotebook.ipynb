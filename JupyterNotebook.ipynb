{
    "cells": [
        {
            "metadata": {
                "tags": []
            },
            "cell_type": "code",
            "source": [
                "def myfirstfunction(a=10,b=20):\n",
                "    return a+b\n",
                "print(myfirstfunction())\n"
            ],
            "execution_count": 2,
            "outputs": [
                {
                    "output_type": "stream",
                    "name": "stdout",
                    "text": "30\n"
                }
            ]
        },
        {
            "cell_type": "code",
            "execution_count": 9,
            "metadata": {
                "tags": []
            },
            "outputs": [
                {
                    "output_type": "stream",
                    "name": "stdout",
                    "text": "['', 'id', 'track_name', 'size_bytes', 'currency', 'price', 'rating_count_tot', 'rating_count_ver', 'user_rating', 'user_rating_ver', 'ver', 'cont_rating', 'prime_genre', 'sup_devices.num', 'ipadSc_urls.num', 'lang.num', 'vpp_lic']\n"
                }
            ],
            "source": [
                "rootPath = 'C:\\\\Users\\\\amit.kuma\\\\Desktop\\\\Cloud Drives\\\\OneDrive\\\\Code Base\\\\Github\\\\mydatasets'\n",
                "opened_file = open(rootPath+'\\\\AppleStore.csv',encoding='utf8')\n",
                "from csv import reader\n",
                "read_file = reader(opened_file)\n",
                "apps_data = list(read_file)\n",
                "print(apps_data[0])"
            ]
        },
        {
            "cell_type": "code",
            "execution_count": null,
            "metadata": {},
            "outputs": [],
            "source": []
        }
    ],
    "metadata": {
        "kernelspec": {
            "name": "python_defaultSpec_1596901815553",
            "display_name": "Python 3.8.5 32-bit",
            "language": "python"
        },
        "language_info": {
            "name": "python",
            "version": "3.6.9",
            "mimetype": "text/x-python",
            "codemirror_mode": {
                "name": "ipython",
                "version": 3
            },
            "pygments_lexer": "ipython3",
            "nbconvert_exporter": "python",
            "file_extension": ".py"
        }
    },
    "nbformat": 4,
    "nbformat_minor": 1
}