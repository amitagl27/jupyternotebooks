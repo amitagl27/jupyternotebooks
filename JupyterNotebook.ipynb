{
    "cells": [
        {
            "metadata": {
                "tags": []
            },
            "cell_type": "code",
            "source": [
                "def myfirstfunction(a=10,b=20):\n",
                "    return a+b\n",
                "print(myfirstfunction())\n"
            ],
            "execution_count": 1,
            "outputs": [
                {
                    "output_type": "stream",
                    "name": "stdout",
                    "text": "30\n"
                }
            ]
        }
    ],
    "metadata": {
        "kernelspec": {
            "name": "python_defaultSpec_1596901815553",
            "display_name": "Python 3.8.5 32-bit",
            "language": "python"
        },
        "language_info": {
            "name": "python",
            "version": "3.6.9",
            "mimetype": "text/x-python",
            "codemirror_mode": {
                "name": "ipython",
                "version": 3
            },
            "pygments_lexer": "ipython3",
            "nbconvert_exporter": "python",
            "file_extension": ".py"
        }
    },
    "nbformat": 4,
    "nbformat_minor": 1
}