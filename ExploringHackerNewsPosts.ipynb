{
  "nbformat": 4,
  "nbformat_minor": 0,
  "metadata": {
    "orig_nbformat": 2,
    "kernelspec": {
      "name": "python3",
      "display_name": "Python 3"
    },
    "colab": {
      "name": "ExploringHackerNewsPosts.ipynb",
      "provenance": [],
      "include_colab_link": true
    }
  },
  "cells": [
    {
      "cell_type": "markdown",
      "metadata": {
        "id": "view-in-github",
        "colab_type": "text"
      },
      "source": [
        "<a href=\"https://colab.research.google.com/github/amitagl27/jupyternotebooks/blob/master/ExploringHackerNewsPosts.ipynb\" target=\"_parent\"><img src=\"https://colab.research.google.com/assets/colab-badge.svg\" alt=\"Open In Colab\"/></a>"
      ]
    },
    {
      "cell_type": "markdown",
      "metadata": {
        "id": "A9b5BtXA6x9c"
      },
      "source": [
        "# Guided Project for Exploration of Hacker News Posts\n",
        "\n",
        "## In this notebook, I am going to analyze posts on Hacker News website and explore what are the parameters (time, title) for which there is more activity on the post\n",
        "\n",
        "---\n",
        "Reading hacker_news.csv \n",
        "> This csv file contains data downloaded from hackernew website. Data has been refined and  \n",
        "reduced from almost 300k rows to approximately 20k rows by removing all submissions that did not receive any comments, and then randomly sampling from the remaining submissions. Below are descriptions of the columns:\n",
        "\n",
        "> `id`: The unique identifier from Hacker News for the post\n",
        "<br>\n",
        "> `title`: The title of the post\n",
        "<br>\n",
        "> `url`: The URL that the posts links to, if it the post has a URL\n",
        "<br>\n",
        "> `num_points`: The number of points the post acquired, calculated as the total number of upvotes minus the total number of downvotes\n",
        "<br>\n",
        "> `num_comments`: The number of comments that were made on the post\n",
        "<br>\n",
        "> `author`: The username of the person who submitted the post\n",
        "<br>\n",
        "> `created_at`: The date and time at which the post was submitted\n",
        "<br>\n"
      ]
    },
    {
      "cell_type": "code",
      "metadata": {
        "id": "2irPNtjA_vMo",
        "colab": {
          "base_uri": "https://localhost:8080/",
          "height": 131
        },
        "outputId": "38bb7c63-ba98-4d6b-a37e-8e40a2ff4602"
      },
      "source": [
        "from google.colab import drive\n",
        "drive.mount('/content/drive')"
      ],
      "execution_count": null,
      "outputs": [
        {
          "output_type": "stream",
          "text": [
            "Go to this URL in a browser: https://accounts.google.com/o/oauth2/auth?client_id=947318989803-6bn6qk8qdgf4n4g3pfee6491hc0brc4i.apps.googleusercontent.com&redirect_uri=urn%3aietf%3awg%3aoauth%3a2.0%3aoob&scope=email%20https%3a%2f%2fwww.googleapis.com%2fauth%2fdocs.test%20https%3a%2f%2fwww.googleapis.com%2fauth%2fdrive%20https%3a%2f%2fwww.googleapis.com%2fauth%2fdrive.photos.readonly%20https%3a%2f%2fwww.googleapis.com%2fauth%2fpeopleapi.readonly&response_type=code\n",
            "\n",
            "Enter your authorization code:\n",
            "··········\n",
            "Mounted at /content/drive\n"
          ],
          "name": "stdout"
        }
      ]
    },
    {
      "cell_type": "code",
      "metadata": {
        "tags": [],
        "id": "t8__NHQ06x9i"
      },
      "source": [
        "filepath = '/content/drive/My Drive/Colab Notebooks/mydatasets/hacker_news.csv'\n",
        "from csv import reader\n",
        "opened_file = open(filepath,encoding='utf8')\n",
        "csvfile= reader(opened_file)\n",
        "hndatalist = list(csvfile)\n",
        "#get headers\n",
        "hnheaders = hndatalist[0]\n",
        "#remove headers from the dataset\n",
        "hndatalist = hndatalist[1:]\n"
      ],
      "execution_count": null,
      "outputs": []
    },
    {
      "cell_type": "markdown",
      "metadata": {
        "id": "pv2IE72f6x95"
      },
      "source": [
        "### There are various titles in above dataset. However, in this project, We're specifically interested in posts whose titles begin with either `Ask HN' or 'Show HN'. We'll need to filter out our dataset to have only these titles\n",
        "\n",
        "> Users submit `Ask HN` posts to ask the Hacker News community a specific question\n",
        "<br>\n",
        ">users submit `Show HN` posts to show the Hacker News community a project, product, or just generally something interesting\n",
        "\n",
        "We'll create 3 seperate lists to store posts \n",
        "* `ask_posts` : which starts with  **Ask HN** ,\n",
        "* `show_posts`: which starts with **Show HN**  and \n",
        "* `other_posts`:All Other Posts \n"
      ]
    },
    {
      "cell_type": "code",
      "metadata": {
        "tags": [],
        "id": "AakWdNbI6x9-"
      },
      "source": [
        "ask_posts = []\n",
        "show_posts = []\n",
        "other_posts = []\n",
        "for post in hndatalist:\n",
        "    title = post[1]\n",
        "    if title.lower().startswith('ask hn'):\n",
        "        ask_posts.append(post)\n",
        "    elif title.lower().startswith('show hn'):\n",
        "        show_posts.append(post)\n",
        "    else:\n",
        "        other_posts.append(post)\n",
        "\n"
      ],
      "execution_count": null,
      "outputs": []
    },
    {
      "cell_type": "markdown",
      "metadata": {
        "id": "-q-bLyG96x-L"
      },
      "source": [
        "### Below are the number of posts for each category:\n",
        "* total number of posts in the file: `20100` \n",
        "* number of posts which starts with **Ask HN** : `1744` \n",
        "* number of posts which starts with **Show HN**: `1162`\n",
        "* number of Other posts:  `17194`\n",
        "\n",
        "Next we'll figure out total number of comments on each of these categories as well as average comments on each category\n"
      ]
    },
    {
      "cell_type": "code",
      "metadata": {
        "tags": [],
        "id": "EJy057Hc6x-R"
      },
      "source": [
        "total_ask_comments = 0\n",
        "total_show_comments = 0\n",
        "\n",
        "for post in ask_posts:\n",
        "    total_ask_comments += int(post[4])\n",
        "for post in show_posts:\n",
        "    total_show_comments += int(post[4])\n",
        "avg_ask_comments = round(total_ask_comments/len(ask_posts),2)\n",
        "avg_show_comments = round(total_show_comments/len(show_posts),2)"
      ],
      "execution_count": null,
      "outputs": []
    },
    {
      "cell_type": "markdown",
      "metadata": {
        "id": "AqNCE9MS6x-d"
      },
      "source": [
        "### From the average ask comments on each category we can see that there are more number of comments on **Ask HN** titled post.\n",
        "\n",
        "* Total number of comments on **Ask HN** posts: `24483`\n",
        "* Total number of comments on **Show HN** posts: `11988`\n",
        "* Average comments on **Ask HN** posts: `14.04`\n",
        "* Average comments on **Show HN** posts: `10.32`\n",
        "\n",
        "Since ask posts are more likely to receive comments, we'll focus our remaining analysis just on these posts. Next, we'll determine if ask posts created at a certain time are more likely to attract comments. Thus we need to calculate average number of comments by each hour of the day.\n",
        "\n",
        "We'll create two seperate dictionary one for count of posts per hour and another for toal number of comments per hour. \n",
        "* `counts_by_hour`: contains the number of ask posts created during each hour of the day.\n",
        "* `comments_by_hour`: contains the corresponding number of comments ask posts created at each hour received.\n"
      ]
    },
    {
      "cell_type": "code",
      "metadata": {
        "tags": [],
        "id": "sIJn3n6m6x-e"
      },
      "source": [
        "import datetime as dt\n",
        "result_list = [] #creating a seperate list to store just created_at and number_of_comments\n",
        "for post in ask_posts:\n",
        "    result_list.append([post[6],post[4]])\n",
        "\n",
        "counts_by_hour = {}\n",
        "comments_by_hour = {}\n",
        "\n",
        "for result in result_list:\n",
        "    curdate = dt.datetime.strptime(result[0],\"%m/%d/%Y %H:%M\")\n",
        "    cur_hour = curdate.strftime(\"%H\")\n",
        "    if cur_hour in counts_by_hour:\n",
        "        counts_by_hour[cur_hour] += 1\n",
        "    else:\n",
        "        counts_by_hour[cur_hour] = 0\n",
        "    if cur_hour in comments_by_hour:\n",
        "        comments_by_hour[cur_hour] += int(result[1])\n",
        "    else:\n",
        "        comments_by_hour[cur_hour] = int(result[1])\n",
        "\n",
        "\n",
        "\n"
      ],
      "execution_count": null,
      "outputs": []
    },
    {
      "cell_type": "markdown",
      "metadata": {
        "id": "mXdfLzrP6x-n"
      },
      "source": [
        "Now we'll calculate average number of comments per hour using the two dictionary genreated above and store it in a list of list. \n",
        "\n",
        "* `avg_by_hour` : list of list containing average number of comments per hour"
      ]
    },
    {
      "cell_type": "code",
      "metadata": {
        "tags": [],
        "id": "AT3nkiwB6x-o"
      },
      "source": [
        "avg_by_hour = []\n",
        "for hour in counts_by_hour:\n",
        "    time = dt.datetime.strptime(hour,\"%H\")\n",
        "    formattedTime = time.strftime(\"%H:%S\")\n",
        "    avg_by_hour.append([round(comments_by_hour[hour]/counts_by_hour[hour],2),formattedTime])\n",
        "avg_by_hour = sorted(avg_by_hour,reverse=True)\n",
        "\n",
        "#print(\"| Average | \", \" Hour |\")\n",
        "#print(\"|------|------|\")\n",
        "#for item in avg_by_hour:\n",
        "#    print(\"| \" ,item[0],\" | \", item[1],\" |\")\n"
      ],
      "execution_count": null,
      "outputs": []
    },
    {
      "cell_type": "markdown",
      "metadata": {
        "id": "qqJ9ueQ66x-0"
      },
      "source": [
        "### Based on the calculation above we get below results set for average number of comments received each hour. \n",
        "\n",
        "| Average |   Hour |\n",
        "| --- | --- |\n",
        "|  38.93  |  15:00  |\n",
        "|  24.23  |  02:00  |\n",
        "|  21.8  |  20:00  |\n",
        "|  16.95  |  16:00  |\n",
        "|  16.16  |  21:00  |\n",
        "|  14.92  |  13:00  |\n",
        "|  13.67  |  10:00  |\n",
        "|  13.36  |  14:00  |\n",
        "|  13.32  |  18:00  |\n",
        "|  11.58  |  17:00  |\n",
        "|  11.58  |  01:00  |\n",
        "|  11.25  |  11:00  |\n",
        "|  10.9  |  19:00  |\n",
        "|  10.47  |  08:00  |\n",
        "|  10.31  |  05:00  |\n",
        "|  9.54  |  12:00  |\n",
        "|  9.23  |  06:00  |\n",
        "|  8.28  |  00:00  |\n",
        "|  8.1  |  23:00  |\n",
        "|  8.09  |  07:00  |\n",
        "|  7.94  |  03:00  |\n",
        "|  7.33  |  04:00  |\n",
        "|  6.84  |  22:00  |\n",
        "|  5.7  |  09:00  |\n",
        "\n",
        "We can see that posts created at 3:00 PM has got more number of comments on average.\n",
        "\n",
        "## Conclusion:\n",
        "AS the Time zone of the data set (from documentaition ) is in the Eastern Time in the USA which is (GMT-4). \n",
        "\n",
        "My timezone is GMT + 8 (MYT) . \n",
        "So I should create posts at around 03:00 AM in the morning (15:00+12 hours) to get more activity on it\n",
        "\n"
      ]
    }
  ]
}